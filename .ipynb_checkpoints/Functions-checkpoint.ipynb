{
 "cells": [
  {
   "cell_type": "markdown",
   "metadata": {},
   "source": [
    "# Remove duplicates"
   ]
  },
  {
   "cell_type": "code",
   "execution_count": 3,
   "metadata": {},
   "outputs": [],
   "source": [
    "import pandas as pd"
   ]
  },
  {
   "cell_type": "code",
   "execution_count": 9,
   "metadata": {},
   "outputs": [],
   "source": [
    "def remove_duplicates(dataframe, duplicate_row_to_keep = \"first\", column_to_subset_by=\"time\"):\n",
    "   \n",
    "    # Resets the dataframe index, as a precaution. I don't like sudden jumps in index values\n",
    "    # Removes the duplicates.\n",
    "    # 'duplicate_row_to_keep' may either be \"first\" or \"last\". The default is set to \"first\".\n",
    "    # 'column_to_subset_by' will be the column with the timestamp values. The default is set to \"time\".\n",
    "\n",
    "    \n",
    "    # Make the necessary imports\n",
    "    import pandas as pd\n",
    "    \n",
    "    # remove duplicates\n",
    "    dataframe = dataframe.drop_duplicates(subset=column_to_subset_by, keep=duplicate_row_to_keep)\n",
    "    \n",
    "    # reset index\n",
    "    dataframe.reset_index(drop=True, inplace=True)\n",
    "    \n",
    "    # return the duplicate removed dataframe\n",
    "    return dataframe"
   ]
  },
  {
   "cell_type": "code",
   "execution_count": 10,
   "metadata": {},
   "outputs": [],
   "source": [
    "# test\n",
    "\n",
    "# Read in the csv file exported from Django backend into a dataframe\n",
    "data = pd.read_csv(\"Parsed_Subset_Data_1s.csv\", sep=',', header=0)"
   ]
  },
  {
   "cell_type": "code",
   "execution_count": 11,
   "metadata": {},
   "outputs": [
    {
     "data": {
      "text/html": [
       "<div>\n",
       "<style scoped>\n",
       "    .dataframe tbody tr th:only-of-type {\n",
       "        vertical-align: middle;\n",
       "    }\n",
       "\n",
       "    .dataframe tbody tr th {\n",
       "        vertical-align: top;\n",
       "    }\n",
       "\n",
       "    .dataframe thead th {\n",
       "        text-align: right;\n",
       "    }\n",
       "</style>\n",
       "<table border=\"1\" class=\"dataframe\">\n",
       "  <thead>\n",
       "    <tr style=\"text-align: right;\">\n",
       "      <th></th>\n",
       "      <th>Unnamed: 0</th>\n",
       "      <th>time</th>\n",
       "      <th>x_1s</th>\n",
       "      <th>y_1s</th>\n",
       "      <th>z_1s</th>\n",
       "    </tr>\n",
       "  </thead>\n",
       "  <tbody>\n",
       "  </tbody>\n",
       "</table>\n",
       "</div>"
      ],
      "text/plain": [
       "Empty DataFrame\n",
       "Columns: [Unnamed: 0, time, x_1s, y_1s, z_1s]\n",
       "Index: []"
      ]
     },
     "execution_count": 11,
     "metadata": {},
     "output_type": "execute_result"
    }
   ],
   "source": [
    "# Check for duplicates\n",
    "duplicate_condition = data['time'].duplicated()\n",
    "data[duplicate_condition]"
   ]
  },
  {
   "cell_type": "code",
   "execution_count": 12,
   "metadata": {},
   "outputs": [],
   "source": [
    "# remove duplicates\n",
    "new_data = remove_duplicates(dataframe=data)"
   ]
  },
  {
   "cell_type": "code",
   "execution_count": 13,
   "metadata": {},
   "outputs": [
    {
     "data": {
      "text/html": [
       "<div>\n",
       "<style scoped>\n",
       "    .dataframe tbody tr th:only-of-type {\n",
       "        vertical-align: middle;\n",
       "    }\n",
       "\n",
       "    .dataframe tbody tr th {\n",
       "        vertical-align: top;\n",
       "    }\n",
       "\n",
       "    .dataframe thead th {\n",
       "        text-align: right;\n",
       "    }\n",
       "</style>\n",
       "<table border=\"1\" class=\"dataframe\">\n",
       "  <thead>\n",
       "    <tr style=\"text-align: right;\">\n",
       "      <th></th>\n",
       "      <th>Unnamed: 0</th>\n",
       "      <th>time</th>\n",
       "      <th>x_1s</th>\n",
       "      <th>y_1s</th>\n",
       "      <th>z_1s</th>\n",
       "    </tr>\n",
       "  </thead>\n",
       "  <tbody>\n",
       "  </tbody>\n",
       "</table>\n",
       "</div>"
      ],
      "text/plain": [
       "Empty DataFrame\n",
       "Columns: [Unnamed: 0, time, x_1s, y_1s, z_1s]\n",
       "Index: []"
      ]
     },
     "execution_count": 13,
     "metadata": {},
     "output_type": "execute_result"
    }
   ],
   "source": [
    "# Check for duplicates again\n",
    "duplicate_condition = new_data['time'].duplicated()\n",
    "new_data[duplicate_condition]"
   ]
  },
  {
   "cell_type": "markdown",
   "metadata": {},
   "source": [
    "# Smoothing noise"
   ]
  },
  {
   "cell_type": "code",
   "execution_count": 14,
   "metadata": {},
   "outputs": [],
   "source": [
    "def smooth_noise(dataframe, window_size=5):\n",
    "    # smoothes noise by running a rolling mean and drops the null columns\n",
    "    # window_size is set to 5 as default\n",
    "    \n",
    "    # make necessary imports \n",
    "    import pandas as pd\n",
    "    \n",
    "    dataframe['x'] = animal1['x'].rolling(window=window_size).mean()\n",
    "    dataframe['y'] = animal1['y'].rolling(window=window_size).mean()\n",
    "    dataframe['z'] = animal1['z'].rolling(window=window_size).mean()\n",
    "    \n",
    "    return dataframe"
   ]
  },
  {
   "cell_type": "markdown",
   "metadata": {},
   "source": [
    "# Calculating the x_diff, y_diff, z_diff and sum_diff"
   ]
  },
  {
   "cell_type": "code",
   "execution_count": null,
   "metadata": {},
   "outputs": [],
   "source": [
    "def calculate_differential_values(dataframe):\n",
    "    # renames x, y, z columns to add _diff with their names\n",
    "    # calculates their differential values\n",
    "    # calculates the sum of the (absolute) differential values\n",
    "    \n",
    "    # make necessary imports\n",
    "    import padas as pd\n",
    "    \n",
    "    # rename columns    \n",
    "    dataframe.rename(columns={\"x\":\"x_diff\", \"y\": \"y_diff\", \"z\": \"z_diff\"})\n",
    "    \n",
    "    # turn time to index\n",
    "    dataframe = dataframe.set_index('time')\n",
    "    \n",
    "    # now calculate the differences between consecutive rows\n",
    "    dataframe = dataframe.diff(axis=0, periods=1)\n",
    "    \n",
    "    # now drop rows with na values\n",
    "    dataframe = dataframe.dropna()\n",
    "    \n",
    "    # now calculate the sum_diff\n",
    "    dataframe['sum_diff'] = abs(dataframe['x_diff']) + abs(dataframe['y_diff']) + abs(dataframe['z_diff'])\n",
    "    \n",
    "    # return the changed dataframe\n",
    "    return dataframe"
   ]
  },
  {
   "cell_type": "code",
   "execution_count": null,
   "metadata": {},
   "outputs": [],
   "source": [
    "# rename columns\n",
    "cow.rename(columns={ cow.columns[1]: \"x_diff\" }, inplace = True)\n",
    "cow.rename(columns={ cow.columns[2]: \"y_diff\" }, inplace = True)\n",
    "cow.rename(columns={ cow.columns[3]: \"z_diff\" }, inplace = True)"
   ]
  }
 ],
 "metadata": {
  "kernelspec": {
   "display_name": "Python 3",
   "language": "python",
   "name": "python3"
  },
  "language_info": {
   "codemirror_mode": {
    "name": "ipython",
    "version": 3
   },
   "file_extension": ".py",
   "mimetype": "text/x-python",
   "name": "python",
   "nbconvert_exporter": "python",
   "pygments_lexer": "ipython3",
   "version": "3.6.4"
  }
 },
 "nbformat": 4,
 "nbformat_minor": 2
}
